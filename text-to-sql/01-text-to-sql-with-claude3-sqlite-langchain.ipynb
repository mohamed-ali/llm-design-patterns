{
 "cells": [
  {
   "cell_type": "markdown",
   "id": "6acc59f1-1ab4-4415-a124-051145a83075",
   "metadata": {},
   "source": [
    "# 01 - Data Analysis with Text-to-SQL: Leveraging Anthropic Claude on Amazon Bedrock with SQLite"
   ]
  },
  {
   "cell_type": "markdown",
   "id": "8503a637-2b57-4b88-a85a-d4ef068a86d6",
   "metadata": {},
   "source": [
    "This notebook demonstrates a practical approach to enabling natural language querying of structured data using Large Language Models (LLMs) and SQLite. We leverage Anthropic's Claude to translate plain English questions into SQL queries, executed against a local SQLite database instance to mimic a SQL database without external dependencies. By combining LLM capabilities with SQL, we bridge the gap between non-technical users and data retrieval, enabling intuitive data exploration without the need for SQL proficiency. Techniques for prompt engineering and query optimization are also explored."
   ]
  },
  {
   "cell_type": "code",
   "execution_count": 1,
   "id": "a0ef8f67-7074-436e-9d7a-ee186d0c420c",
   "metadata": {
    "tags": []
   },
   "outputs": [
    {
     "name": "stdout",
     "output_type": "stream",
     "text": [
      "Python 3.10.13\n"
     ]
    }
   ],
   "source": [
    "!python --version"
   ]
  },
  {
   "cell_type": "code",
   "execution_count": 2,
   "id": "752042f2-229f-424b-a6bc-230c6df94a62",
   "metadata": {},
   "outputs": [
    {
     "name": "stdout",
     "output_type": "stream",
     "text": [
      "Note: you may need to restart the kernel to use updated packages.\n",
      "Note: you may need to restart the kernel to use updated packages.\n"
     ]
    }
   ],
   "source": [
    "%pip install --upgrade --quiet langchain langchain-community langchain-aws\n",
    "%pip install -q sqlfluff"
   ]
  },
  {
   "cell_type": "markdown",
   "id": "1d582dfc-f67f-48b7-a2ed-cd44c037ccdc",
   "metadata": {},
   "source": [
    "Restart the kernel after installing dependencies"
   ]
  },
  {
   "cell_type": "code",
   "execution_count": 3,
   "id": "63a19237-5258-437c-be1d-c9d6db4a1940",
   "metadata": {},
   "outputs": [
    {
     "data": {
      "text/html": [
       "<script>Jupyter.notebook.kernel.restart()</script>"
      ],
      "text/plain": [
       "<IPython.core.display.HTML object>"
      ]
     },
     "execution_count": 3,
     "metadata": {},
     "output_type": "execute_result"
    }
   ],
   "source": [
    "# restart kernel\n",
    "from IPython.core.display import HTML\n",
    "HTML(\"<script>Jupyter.notebook.kernel.restart()</script>\")"
   ]
  },
  {
   "cell_type": "code",
   "execution_count": 4,
   "id": "ef28db63-84a8-4162-a9b6-c99b6e6f1ce7",
   "metadata": {},
   "outputs": [],
   "source": [
    "import warnings\n",
    "warnings.filterwarnings(\"ignore\")"
   ]
  },
  {
   "cell_type": "markdown",
   "id": "8fa8e009-86b3-49af-a292-b59d083af55a",
   "metadata": {},
   "source": [
    "> This notebook was tested with a kernel with python 3.10.6"
   ]
  },
  {
   "cell_type": "markdown",
   "id": "212eb673-2de4-463f-9cac-f19aa7efef04",
   "metadata": {},
   "source": [
    "## 1. Explore data\n",
    "\n",
    "The data is exported from the [country profile of Tunisia on Harvard Economic Atlas](https://atlas.cid.harvard.edu/explore?country=223&queryLevel=location&product=undefined&year=2021&productClass=HS&target=Product&partner=undefined&startYear=undefined)"
   ]
  },
  {
   "cell_type": "code",
   "execution_count": 5,
   "id": "d19a7b74-0174-4bb9-9fee-299dd9b9ea9f",
   "metadata": {
    "tags": []
   },
   "outputs": [],
   "source": [
    "import pandas as pd"
   ]
  },
  {
   "cell_type": "code",
   "execution_count": 6,
   "id": "dbb5202b-f1d2-461a-a909-923938601f70",
   "metadata": {},
   "outputs": [
    {
     "name": "stdout",
     "output_type": "stream",
     "text": [
      "'What did Tunisia export in 2021_.csv'  'What did Tunisia import in 2021_.csv'\n"
     ]
    }
   ],
   "source": [
    "ls data/"
   ]
  },
  {
   "cell_type": "code",
   "execution_count": 7,
   "id": "11dfb385-930f-4442-a592-919a8707e951",
   "metadata": {
    "tags": []
   },
   "outputs": [],
   "source": [
    "properties_data_df = pd.read_csv(\"data/What did Tunisia export in 2021_.csv\")"
   ]
  },
  {
   "cell_type": "code",
   "execution_count": 8,
   "id": "8d58a28c-42a7-4921-80aa-5c58a8c7fb3e",
   "metadata": {
    "tags": []
   },
   "outputs": [
    {
     "data": {
      "text/html": [
       "<div>\n",
       "<style scoped>\n",
       "    .dataframe tbody tr th:only-of-type {\n",
       "        vertical-align: middle;\n",
       "    }\n",
       "\n",
       "    .dataframe tbody tr th {\n",
       "        vertical-align: top;\n",
       "    }\n",
       "\n",
       "    .dataframe thead th {\n",
       "        text-align: right;\n",
       "    }\n",
       "</style>\n",
       "<table border=\"1\" class=\"dataframe\">\n",
       "  <thead>\n",
       "    <tr style=\"text-align: right;\">\n",
       "      <th></th>\n",
       "      <th>Name</th>\n",
       "      <th>Gross Export</th>\n",
       "      <th>Share</th>\n",
       "      <th>Code</th>\n",
       "      <th>Sector</th>\n",
       "    </tr>\n",
       "  </thead>\n",
       "  <tbody>\n",
       "    <tr>\n",
       "      <th>0</th>\n",
       "      <td>Horses</td>\n",
       "      <td>109905</td>\n",
       "      <td>0.000539</td>\n",
       "      <td>0101</td>\n",
       "      <td>Agriculture</td>\n",
       "    </tr>\n",
       "    <tr>\n",
       "      <th>1</th>\n",
       "      <td>Fowl</td>\n",
       "      <td>284920</td>\n",
       "      <td>0.001396</td>\n",
       "      <td>0105</td>\n",
       "      <td>Agriculture</td>\n",
       "    </tr>\n",
       "    <tr>\n",
       "      <th>2</th>\n",
       "      <td>Other live animals</td>\n",
       "      <td>36664</td>\n",
       "      <td>0.000180</td>\n",
       "      <td>0106</td>\n",
       "      <td>Agriculture</td>\n",
       "    </tr>\n",
       "    <tr>\n",
       "      <th>3</th>\n",
       "      <td>Poultry</td>\n",
       "      <td>3507712</td>\n",
       "      <td>0.017193</td>\n",
       "      <td>0207</td>\n",
       "      <td>Agriculture</td>\n",
       "    </tr>\n",
       "    <tr>\n",
       "      <th>4</th>\n",
       "      <td>Other meat</td>\n",
       "      <td>1087</td>\n",
       "      <td>0.000005</td>\n",
       "      <td>0208</td>\n",
       "      <td>Agriculture</td>\n",
       "    </tr>\n",
       "  </tbody>\n",
       "</table>\n",
       "</div>"
      ],
      "text/plain": [
       "                 Name  Gross Export     Share  Code       Sector\n",
       "0              Horses        109905  0.000539  0101  Agriculture\n",
       "1                Fowl        284920  0.001396  0105  Agriculture\n",
       "2  Other live animals         36664  0.000180  0106  Agriculture\n",
       "3             Poultry       3507712  0.017193  0207  Agriculture\n",
       "4          Other meat          1087  0.000005  0208  Agriculture"
      ]
     },
     "execution_count": 8,
     "metadata": {},
     "output_type": "execute_result"
    }
   ],
   "source": [
    "properties_data_df.head()"
   ]
  },
  {
   "cell_type": "code",
   "execution_count": 9,
   "id": "4928c651-d3ab-449f-bf0d-73505f984f5e",
   "metadata": {},
   "outputs": [
    {
     "data": {
      "text/plain": [
       "(976, 5)"
      ]
     },
     "execution_count": 9,
     "metadata": {},
     "output_type": "execute_result"
    }
   ],
   "source": [
    "properties_data_df.shape"
   ]
  },
  {
   "cell_type": "code",
   "execution_count": 10,
   "id": "207c0539-3edc-4be0-b49a-23e6a48ca507",
   "metadata": {},
   "outputs": [],
   "source": [
    "properties_data_df[\"year\"] = 2021"
   ]
  },
  {
   "cell_type": "markdown",
   "id": "b0cf01e1-975e-4744-91fc-15b7c4c8c0d0",
   "metadata": {},
   "source": [
    "## 2. Important Design Choices and Decisions\n",
    "\n",
    "Allowing large language models to prepare SQL queries to run against a database should be done with great caution and appropriate safeguards in place. We also need to recognize and work around the variety of database systems and SQL syntax variations when developing AI assistants that may access databases.\n",
    "\n",
    "To achieve this, please consider the following recommendations when designing agents/assistants that can access SQL databases:\n",
    "\n",
    "1. **Never allow the agent to perform write operations** to reduce the risk of SQL injection attacks.\n",
    "2. The LLM agent should run with a user that has **read-only permission against a selection of tables**.\n",
    "   - This reinforces and emphasizes point 1.\n",
    "3. When possible, **use aggregated or materialized views** instead of querying the base tables directly. This will speed up the queries and reduce the load on the database.\n",
    "4. **Limit the agent's access to only the required SQL tables** based on the expected user queries.\n",
    "\n",
    "To control access to the database during the engagement, we will help you build a Lambda function that wraps the functionality of the LLM assistant. This Lambda function can be easily integrated with the remaining components of your system. By limiting the access permissions of the Lambda function to read-only from the SQL database, we can effectively limit the permissions of the LLM assistant."
   ]
  },
  {
   "cell_type": "markdown",
   "id": "e1ade97b-0b24-4275-9fc7-52fe105c139e",
   "metadata": {},
   "source": [
    "## 3. Store data as SQLite db"
   ]
  },
  {
   "cell_type": "markdown",
   "id": "030e4ec8-ce7c-4046-b63c-44f1bad81432",
   "metadata": {},
   "source": [
    "In this demonstration, we use SQLite to mock the SQL database. You can validate your initial proof of concept using SQLite, then move to another production grade database for the pilot."
   ]
  },
  {
   "cell_type": "code",
   "execution_count": 11,
   "id": "d9f024c2-151d-43ee-a21b-3ecb878e9cd2",
   "metadata": {
    "tags": []
   },
   "outputs": [],
   "source": [
    "import sqlite3\n",
    "\n",
    "# Create an empty SQLite db\n",
    "conn = sqlite3.connect(\"/tmp/tunisia-exports.db\")\n",
    "c = conn.cursor()\n",
    "# Write the pandas dataframe data into the SQLite db\n",
    "properties_data_df.to_sql(\"tunisia_exports_table\", conn, if_exists=\"replace\", index=False)\n",
    "conn.close()"
   ]
  },
  {
   "cell_type": "markdown",
   "id": "b9a03994-2bfd-43c6-a9e8-f2f9fd542277",
   "metadata": {},
   "source": [
    "## 3. Prepare an LLM "
   ]
  },
  {
   "cell_type": "code",
   "execution_count": 12,
   "id": "38910137-c8d4-472e-ba1a-fba6580f3d19",
   "metadata": {},
   "outputs": [],
   "source": [
    "import boto3\n",
    "\n",
    "bedrock_client = boto3.client(\"bedrock\", region_name=\"us-west-2\")\n",
    "bedrock_runtime_client = boto3.client(\"bedrock-runtime\", region_name=\"us-west-2\")"
   ]
  },
  {
   "cell_type": "code",
   "execution_count": 13,
   "id": "2ba6e147-2d82-4c0a-a817-beb8f76051da",
   "metadata": {
    "tags": []
   },
   "outputs": [],
   "source": [
    "available_foundation_models = bedrock_client.list_foundation_models()"
   ]
  },
  {
   "cell_type": "markdown",
   "id": "9e1aa495-df03-4f31-b62f-28186b3186fc",
   "metadata": {},
   "source": [
    "Uncomment the following to see the full list of models on Amazon Bedrock"
   ]
  },
  {
   "cell_type": "code",
   "execution_count": 14,
   "id": "ebd30a2a-1799-42ee-9189-f3e7c968307f",
   "metadata": {},
   "outputs": [],
   "source": [
    "# available_foundation_models"
   ]
  },
  {
   "cell_type": "markdown",
   "id": "980396c7-e244-4a71-8492-58f3ee981759",
   "metadata": {},
   "source": [
    "Below we keep only models from the Anthropic Claude family."
   ]
  },
  {
   "cell_type": "code",
   "execution_count": 15,
   "id": "4d2a4e75-292d-4e2e-b522-5fe1370c89f4",
   "metadata": {},
   "outputs": [],
   "source": [
    "claude_models_on_bedrock = [\n",
    "    m for m in available_foundation_models[\"modelSummaries\"]\n",
    "    if \"Claude\" in m[\"modelName\"]\n",
    "]"
   ]
  },
  {
   "cell_type": "markdown",
   "id": "69e97517-f3e4-4ec5-a8bc-bef0aac53a5c",
   "metadata": {},
   "source": [
    "Below we extract the model ids for models in the Anthropic Claude family."
   ]
  },
  {
   "cell_type": "code",
   "execution_count": 16,
   "id": "db6b51d2-cd31-4e40-812b-a333de38f9d9",
   "metadata": {},
   "outputs": [
    {
     "data": {
      "text/plain": [
       "['anthropic.claude-instant-v1:2:100k',\n",
       " 'anthropic.claude-instant-v1',\n",
       " 'anthropic.claude-v2:0:18k',\n",
       " 'anthropic.claude-v2:0:100k',\n",
       " 'anthropic.claude-v2:1:18k',\n",
       " 'anthropic.claude-v2:1:200k',\n",
       " 'anthropic.claude-v2:1',\n",
       " 'anthropic.claude-v2',\n",
       " 'anthropic.claude-3-sonnet-20240229-v1:0:28k',\n",
       " 'anthropic.claude-3-sonnet-20240229-v1:0:200k',\n",
       " 'anthropic.claude-3-sonnet-20240229-v1:0',\n",
       " 'anthropic.claude-3-haiku-20240307-v1:0:48k',\n",
       " 'anthropic.claude-3-haiku-20240307-v1:0:200k',\n",
       " 'anthropic.claude-3-haiku-20240307-v1:0',\n",
       " 'anthropic.claude-3-opus-20240229-v1:0']"
      ]
     },
     "execution_count": 16,
     "metadata": {},
     "output_type": "execute_result"
    }
   ],
   "source": [
    "[m[\"modelId\"] for m in claude_models_on_bedrock]"
   ]
  },
  {
   "cell_type": "markdown",
   "id": "ad33a6b2-491b-4262-9d78-b0c241c9e9a4",
   "metadata": {},
   "source": [
    "We pick the Claude haiku model for the first experiment."
   ]
  },
  {
   "cell_type": "code",
   "execution_count": 17,
   "id": "1cba48e4-e5d1-4a43-b0c6-8d340eeca576",
   "metadata": {
    "tags": []
   },
   "outputs": [],
   "source": [
    "model_id = \"anthropic.claude-3-haiku-20240307-v1:0\""
   ]
  },
  {
   "cell_type": "code",
   "execution_count": 18,
   "id": "24dfa757-42ba-41c4-b5d6-16b9454eff6f",
   "metadata": {},
   "outputs": [],
   "source": [
    "from langchain_aws import ChatBedrock"
   ]
  },
  {
   "cell_type": "code",
   "execution_count": 19,
   "id": "c4546331-a331-449c-b5b2-ad300bbbf558",
   "metadata": {},
   "outputs": [],
   "source": [
    "model_kwargs = {\n",
    "    \"temperature\": 0.0,\n",
    "    \"top_p\": 0.99,\n",
    "    \"max_tokens\": 1000,\n",
    "}\n",
    "\n",
    "llm = ChatBedrock(\n",
    "    client=bedrock_runtime_client,\n",
    "    model_id=model_id,\n",
    "    model_kwargs=model_kwargs,\n",
    ")"
   ]
  },
  {
   "cell_type": "code",
   "execution_count": 20,
   "id": "69156dbe-9fea-48d0-86d0-5cc513a0df6a",
   "metadata": {
    "tags": []
   },
   "outputs": [],
   "source": [
    "from langchain import SQLDatabase"
   ]
  },
  {
   "cell_type": "code",
   "execution_count": 21,
   "id": "2a16e478-d15c-41e3-8385-8f4cf3c0ced9",
   "metadata": {
    "tags": []
   },
   "outputs": [],
   "source": [
    "# load db\n",
    "tunisia_exports_db = SQLDatabase.from_uri(\"sqlite:////tmp/tunisia-exports.db\")"
   ]
  },
  {
   "cell_type": "markdown",
   "id": "d3096d69-102b-4551-b1b9-939f9088d086",
   "metadata": {},
   "source": [
    "## Ask the LLM to Generate SQL Queries then Handle the Execution Separately"
   ]
  },
  {
   "cell_type": "markdown",
   "id": "215e4d89-398c-4db9-a8e8-883adb248871",
   "metadata": {
    "tags": []
   },
   "source": [
    "### Generate the SQL Query from Natural Language"
   ]
  },
  {
   "cell_type": "code",
   "execution_count": 22,
   "id": "a61ced94-bc7b-4d16-8728-7bbbc84c166a",
   "metadata": {
    "tags": []
   },
   "outputs": [],
   "source": [
    "from langchain.chains import create_sql_query_chain"
   ]
  },
  {
   "cell_type": "code",
   "execution_count": 23,
   "id": "c907d77e-3c81-46b0-be5c-b6a92e28c0f8",
   "metadata": {
    "tags": []
   },
   "outputs": [],
   "source": [
    "text_to_sql_chain = create_sql_query_chain(llm=llm, db=tunisia_exports_db)"
   ]
  },
  {
   "cell_type": "code",
   "execution_count": 24,
   "id": "dd7f1311-0b5c-4da9-88d3-a00a90b2e776",
   "metadata": {
    "tags": []
   },
   "outputs": [],
   "source": [
    "user_question = \"Which sector has the highest gross expert in Tunisia?\""
   ]
  },
  {
   "cell_type": "code",
   "execution_count": 25,
   "id": "5a801e29-7fec-47c7-ab9a-2a4a42cc1629",
   "metadata": {
    "tags": []
   },
   "outputs": [
    {
     "name": "stdout",
     "output_type": "stream",
     "text": [
      "CPU times: user 56.1 ms, sys: 69 µs, total: 56.1 ms\n",
      "Wall time: 831 ms\n"
     ]
    },
    {
     "data": {
      "text/plain": [
       "'Question: Which sector has the highest gross expert in Tunisia?\\nSQLQuery: SELECT \"Sector\", MAX(\"Gross Export\") AS \"Highest Gross Export\"\\nFROM tunisia_exports_table\\nGROUP BY \"Sector\"\\nORDER BY \"Highest Gross Export\" DESC\\nLIMIT 1;'"
      ]
     },
     "execution_count": 25,
     "metadata": {},
     "output_type": "execute_result"
    }
   ],
   "source": [
    "%%time\n",
    "\n",
    "sql_query = text_to_sql_chain.invoke({\"question\": user_question})\n",
    "sql_query"
   ]
  },
  {
   "cell_type": "code",
   "execution_count": 26,
   "id": "fae1f4c5-bdf2-4434-b29d-97236e0196d7",
   "metadata": {},
   "outputs": [],
   "source": [
    "if \"SQLQuery:\" in sql_query:\n",
    "    sql_query = sql_query.split(\"SQLQuery:\")[-1].strip()"
   ]
  },
  {
   "cell_type": "code",
   "execution_count": 27,
   "id": "bedef1b7-3d22-4aee-bf30-076e636fa35e",
   "metadata": {},
   "outputs": [
    {
     "data": {
      "text/plain": [
       "'SELECT \"Sector\", MAX(\"Gross Export\") AS \"Highest Gross Export\"\\nFROM tunisia_exports_table\\nGROUP BY \"Sector\"\\nORDER BY \"Highest Gross Export\" DESC\\nLIMIT 1;'"
      ]
     },
     "execution_count": 27,
     "metadata": {},
     "output_type": "execute_result"
    }
   ],
   "source": [
    "sql_query"
   ]
  },
  {
   "cell_type": "markdown",
   "id": "c6f2643a-b145-46c1-b023-7a5b34867c0b",
   "metadata": {},
   "source": [
    "### Apply a SQL Linter to Automatically Fix the Query if There is a Need"
   ]
  },
  {
   "cell_type": "markdown",
   "id": "3b6ab8f2-4630-42ff-8176-eecd4526fc1f",
   "metadata": {},
   "source": [
    "After receiving the SQL query, you can validate it, execute it, and potentially call an LLM with the original question and the query answer to formulate a natural language answer. This gives you full control over the query and question answering lifecycle."
   ]
  },
  {
   "cell_type": "markdown",
   "id": "00f34f3f-43ec-40bc-8cd0-b5951cad9d4c",
   "metadata": {
    "tags": []
   },
   "source": [
    "You can, for example, run a SQL linter such as [sqlfluff](https://github.com/sqlfluff/sqlfluff) on the SQL query."
   ]
  },
  {
   "cell_type": "code",
   "execution_count": 28,
   "id": "c56dbed6-1da5-450e-b50c-08faa460ed50",
   "metadata": {
    "tags": []
   },
   "outputs": [
    {
     "name": "stdout",
     "output_type": "stream",
     "text": [
      "SELECT\n",
      "    \"Sector\",\n",
      "    MAX(\"Gross Export\") AS \"Highest Gross Export\"\n",
      "FROM tunisia_exports_table\n",
      "GROUP BY \"Sector\"\n",
      "ORDER BY \"Highest Gross Export\" DESC\n",
      "LIMIT 1;\n",
      "\n",
      "CPU times: user 557 ms, sys: 36.8 ms, total: 593 ms\n",
      "Wall time: 713 ms\n"
     ]
    }
   ],
   "source": [
    "%%time\n",
    "import sqlfluff\n",
    "\n",
    "fixed_query = sqlfluff.fix(\n",
    "    sql=sql_query,\n",
    "    dialect='postgres'\n",
    ") \n",
    "\n",
    "print(fixed_query)"
   ]
  },
  {
   "cell_type": "markdown",
   "id": "f9c45971-d492-4b51-abae-141e10af01ab",
   "metadata": {},
   "source": [
    "### Execute the Query Against the Database Manually"
   ]
  },
  {
   "cell_type": "code",
   "execution_count": 29,
   "id": "243580ed-e090-403e-adc7-21cc2037ede2",
   "metadata": {
    "tags": []
   },
   "outputs": [
    {
     "name": "stdout",
     "output_type": "stream",
     "text": [
      "CPU times: user 1.94 ms, sys: 0 ns, total: 1.94 ms\n",
      "Wall time: 1.57 ms\n"
     ]
    }
   ],
   "source": [
    "%%time\n",
    "conn = sqlite3.connect(\"/tmp/tunisia-exports.db\")\n",
    "c = conn.cursor()\n",
    "c.execute(fixed_query)\n",
    "result = c.fetchall()\n",
    "result[0]\n",
    "conn.close()"
   ]
  },
  {
   "cell_type": "code",
   "execution_count": 30,
   "id": "5be558e7-1cba-44b4-9119-8f34a8c4edc3",
   "metadata": {
    "tags": []
   },
   "outputs": [
    {
     "data": {
      "text/plain": [
       "[('Electronics', 2113516288)]"
      ]
     },
     "execution_count": 30,
     "metadata": {},
     "output_type": "execute_result"
    }
   ],
   "source": [
    "result"
   ]
  },
  {
   "cell_type": "code",
   "execution_count": 31,
   "id": "6f7a326c-edf2-4f71-a124-2fad7d7fa478",
   "metadata": {},
   "outputs": [],
   "source": [
    "conn = sqlite3.connect(\"/tmp/tunisia-exports.db\")\n",
    "\n",
    "\n",
    "def execute_sql_query(conn, query):\n",
    "    c = conn.cursor()\n",
    "    c.execute(query)\n",
    "    result = c.fetchall()\n",
    "    result[0]\n",
    "    return result"
   ]
  },
  {
   "cell_type": "markdown",
   "id": "ca22e6dd-def2-47dc-be51-a59d5653558f",
   "metadata": {},
   "source": [
    "### Formulate a Natural Language Answer from the Query and Result"
   ]
  },
  {
   "cell_type": "code",
   "execution_count": 32,
   "id": "802b5c88-0ee5-4a31-9742-1643e7c21456",
   "metadata": {
    "tags": []
   },
   "outputs": [],
   "source": [
    "import json\n",
    "from langchain_core.output_parsers import StrOutputParser\n",
    "from langchain_core.prompts import ChatPromptTemplate\n",
    "\n",
    "\n",
    "system_prompt = \"\"\"\n",
    "You are an AI assistant helping non-technical business users understand data insights clearly and professionally. Your task is to take a business question and SQL query results, and provide a concise answer addressing the question directly, without delving into technical details.\n",
    "\n",
    "Follow these guidelines:\n",
    "\n",
    "1. Understand the context of the question and data.\n",
    "2. Craft a clear, confident answer in a professional tone.\n",
    "3. Focus on key insights and takeaways relevant to the question.\n",
    "4. Use simple, non-technical language.\n",
    "5. Highlight the most important points for quick understanding.\n",
    "\n",
    "Your goal is to communicate actionable insights that empower informed business decisions based on the data, without overwhelming with technical jargon.\n",
    "\n",
    "Provide a concise and professional answer based on the question and SQL results.\"\"\"\n",
    "\n",
    "messages = [\n",
    "    (\"system\", system_prompt),\n",
    "    (\"user\", \"<question>{question}</question><sql_result>{sql_result}</sql_result>\")\n",
    "]\n",
    "\n",
    "prompt = ChatPromptTemplate.from_messages(messages)\n",
    "chain = prompt | llm | StrOutputParser()"
   ]
  },
  {
   "cell_type": "code",
   "execution_count": 33,
   "id": "e3c26b79-e0f6-4920-9404-2008fb6b8701",
   "metadata": {},
   "outputs": [
    {
     "name": "stdout",
     "output_type": "stream",
     "text": [
      "CPU times: user 12.6 ms, sys: 252 µs, total: 12.8 ms\n",
      "Wall time: 2.09 s\n"
     ]
    }
   ],
   "source": [
    "%%time\n",
    "response = chain.invoke(\n",
    "    {\n",
    "        \"question\": user_question,\n",
    "        \"sql_result\": json.dumps(result)\n",
    "    }\n",
    ")"
   ]
  },
  {
   "cell_type": "code",
   "execution_count": 34,
   "id": "c82eef56-d4fd-4924-842f-09a141be0bf8",
   "metadata": {},
   "outputs": [
    {
     "name": "stdout",
     "output_type": "stream",
     "text": [
      "Based on the SQL query results, the sector with the highest gross export in Tunisia is Electronics, with a gross export value of 2,113,516,288.\n",
      "\n",
      "This indicates that the Electronics sector is a significant driver of Tunisia's exports and a key contributor to the country's economy. The high gross export value for this sector suggests it may be an area of strength and competitive advantage for Tunisia in the global market.\n"
     ]
    }
   ],
   "source": [
    "print(response)"
   ]
  },
  {
   "cell_type": "markdown",
   "id": "477ae5dc-1190-4a02-934f-dcf0aa5480c0",
   "metadata": {},
   "source": [
    "## Evaluate on multiple questions"
   ]
  },
  {
   "cell_type": "code",
   "execution_count": 35,
   "id": "1433513d-9926-4c0e-8e93-c37e0bc21773",
   "metadata": {},
   "outputs": [],
   "source": [
    "questions = [\n",
    "    \"Which sector has the highest total gross export in Tunisia?\",\n",
    "    \"What are the top 3 sectors with the highest gross export in Tunisia?\"\n",
    "]"
   ]
  },
  {
   "cell_type": "code",
   "execution_count": 36,
   "id": "32d1159e-7f3b-4d7e-a4dc-62daf5757986",
   "metadata": {},
   "outputs": [
    {
     "name": "stdout",
     "output_type": "stream",
     "text": [
      "CPU times: user 76.5 ms, sys: 3.01 ms, total: 79.5 ms\n",
      "Wall time: 7.11 s\n"
     ]
    }
   ],
   "source": [
    "%%time\n",
    "\n",
    "qa = []\n",
    "for question in questions:\n",
    "    sql_query = text_to_sql_chain.invoke({\"question\": question})\n",
    "    if \"SQLQuery:\" in sql_query:\n",
    "        sql_query = sql_query.split(\"SQLQuery:\")[-1].strip()\n",
    "    result = execute_sql_query(conn, sql_query)\n",
    "    response = chain.invoke(\n",
    "        {\n",
    "            \"question\": question,\n",
    "            \"sql_result\": json.dumps(result)\n",
    "        }\n",
    "    )\n",
    "    qa.append(dict(question=question, answer=response.strip(), sql_query=sql_query))"
   ]
  },
  {
   "cell_type": "code",
   "execution_count": 37,
   "id": "b24d9fba-6d4a-4391-84b8-3705ea5cdaa1",
   "metadata": {},
   "outputs": [
    {
     "data": {
      "text/plain": [
       "[{'question': 'Which sector has the highest total gross export in Tunisia?',\n",
       "  'answer': \"Based on the SQL query results, the sector with the highest total gross export in Tunisia is Electronics, with a total export value of 4,533,943,713.\\n\\nThe key insight here is that the Electronics sector is the top exporting industry in Tunisia, significantly outpacing other sectors. This suggests that the Electronics industry is a major driver of Tunisia's export economy and likely plays a critical role in the country's overall economic performance.\",\n",
       "  'sql_query': 'SELECT \"Sector\", SUM(\"Gross Export\") AS \"Total Gross Export\"\\nFROM tunisia_exports_table\\nGROUP BY \"Sector\"\\nORDER BY \"Total Gross Export\" DESC\\nLIMIT 1;'},\n",
       " {'question': 'What are the top 3 sectors with the highest gross export in Tunisia?',\n",
       "  'answer': \"Based on the SQL query results, the top 3 sectors with the highest gross export in Tunisia are:\\n\\n1. Electronics - $4,533,943,713\\n2. Textiles - $4,099,307,399 \\n3. Services - $2,933,225,232\\n\\nThe electronics sector has the highest gross export value, followed by textiles and then services. These appear to be the key export-oriented industries driving Tunisia's economy.\",\n",
       "  'sql_query': 'SELECT \"Sector\", SUM(\"Gross Export\") AS \"Total Gross Export\"\\nFROM tunisia_exports_table\\nGROUP BY \"Sector\"\\nORDER BY \"Total Gross Export\" DESC\\nLIMIT 3;'}]"
      ]
     },
     "execution_count": 37,
     "metadata": {},
     "output_type": "execute_result"
    }
   ],
   "source": [
    "qa"
   ]
  },
  {
   "cell_type": "code",
   "execution_count": 38,
   "id": "2c5b0504-137b-47db-a359-75de73f50a60",
   "metadata": {},
   "outputs": [
    {
     "name": "stdout",
     "output_type": "stream",
     "text": [
      "Which sector has the highest total gross export in Tunisia?\n",
      "\n",
      " Based on the SQL query results, the sector with the highest total gross export in Tunisia is Electronics, with a total export value of 4,533,943,713.\n",
      "\n",
      "The key insight here is that the Electronics sector is the top exporting industry in Tunisia, significantly outpacing other sectors. This suggests that the Electronics industry is a major driver of Tunisia's export economy and likely plays a critical role in the country's overall economic performance.\n",
      "\n",
      " SELECT \"Sector\", SUM(\"Gross Export\") AS \"Total Gross Export\"\n",
      "FROM tunisia_exports_table\n",
      "GROUP BY \"Sector\"\n",
      "ORDER BY \"Total Gross Export\" DESC\n",
      "LIMIT 1;\n"
     ]
    }
   ],
   "source": [
    "index = 0\n",
    "print(qa[index][\"question\"] + \"\\n\\n\", qa[index][\"answer\"].strip() + \"\\n\\n\", qa[index][\"sql_query\"].strip())"
   ]
  },
  {
   "cell_type": "code",
   "execution_count": 39,
   "id": "72a6baf9-0cff-4ace-96cb-587043ca3baf",
   "metadata": {},
   "outputs": [
    {
     "name": "stdout",
     "output_type": "stream",
     "text": [
      "What are the top 3 sectors with the highest gross export in Tunisia?\n",
      "\n",
      " Based on the SQL query results, the top 3 sectors with the highest gross export in Tunisia are:\n",
      "\n",
      "1. Electronics - $4,533,943,713\n",
      "2. Textiles - $4,099,307,399 \n",
      "3. Services - $2,933,225,232\n",
      "\n",
      "The electronics sector has the highest gross export value, followed by textiles and then services. These appear to be the key export-oriented industries driving Tunisia's economy.\n",
      "\n",
      " SELECT \"Sector\", SUM(\"Gross Export\") AS \"Total Gross Export\"\n",
      "FROM tunisia_exports_table\n",
      "GROUP BY \"Sector\"\n",
      "ORDER BY \"Total Gross Export\" DESC\n",
      "LIMIT 3;\n"
     ]
    }
   ],
   "source": [
    "index = 1\n",
    "print(qa[index][\"question\"] + \"\\n\\n\", qa[index][\"answer\"].strip() + \"\\n\\n\", qa[index][\"sql_query\"].strip())"
   ]
  },
  {
   "cell_type": "markdown",
   "id": "8f41ac12-a862-423a-afdf-9e67f8c1146a",
   "metadata": {},
   "source": [
    "## Conclusion\n",
    "\n",
    "In this notebook, we demonstrated how to set up a dataframe of fake data, store it in a SQLite database to mimic a SQL database, and use an LLM chatbot to generate SQL queries based on natural language questions. We also explored techniques for executing the generated queries, validating them using a SQL linter, and formulating natural language answers based on the query results. The notebook provides a solid foundation for building AI assistants capable of querying databases while adhering to best practices for security and performance."
   ]
  },
  {
   "cell_type": "markdown",
   "id": "32329354-6ac0-47c4-820c-6f27eae41291",
   "metadata": {},
   "source": [
    "---\n",
    "\n",
    "### Environment and Dependency Information"
   ]
  },
  {
   "cell_type": "code",
   "execution_count": 40,
   "id": "6c027cda-5726-4855-a664-7d1d55594827",
   "metadata": {},
   "outputs": [
    {
     "data": {
      "text/plain": [
       "{'builtins': None,\n",
       " 'IPython.core.interactiveshell': '8.20.0',\n",
       " 'IPython.core.autocall': '8.20.0',\n",
       " 'io': None,\n",
       " 'IPython.core.display': '8.20.0',\n",
       " 'warnings': None,\n",
       " 'pandas': '2.1.4',\n",
       " 'pandas.core.frame': '2.1.4',\n",
       " 'sqlite3': None,\n",
       " 'boto3': '1.34.93',\n",
       " 'botocore.client': '1.34.93',\n",
       " 'langchain_aws.chat_models.bedrock': None,\n",
       " 'langchain_community.utilities.sql_database': '0.0.34',\n",
       " 'langchain.chains.sql_database.query': '0.1.16',\n",
       " 'langchain_core.runnables.base': '0.1.46',\n",
       " 'sqlfluff': '3.0.5',\n",
       " '__main__': None,\n",
       " 'json': '2.0.9',\n",
       " 'langchain_core.output_parsers.string': '0.1.46',\n",
       " 'langchain_core.prompts.chat': '0.1.46',\n",
       " 'utils.helper': None}"
      ]
     },
     "execution_count": 40,
     "metadata": {},
     "output_type": "execute_result"
    }
   ],
   "source": [
    "from utils.helper import package_imports\n",
    "dict(package_imports(globals()))"
   ]
  },
  {
   "cell_type": "code",
   "execution_count": 41,
   "id": "3e25d36b-4569-4147-ab01-2f0f09d8e1d6",
   "metadata": {},
   "outputs": [
    {
     "name": "stdout",
     "output_type": "stream",
     "text": [
      "Linux default 4.14.336-257.562.amzn2.x86_64 #1 SMP Sat Feb 24 09:50:35 UTC 2024 x86_64 x86_64 x86_64 GNU/Linux\n"
     ]
    }
   ],
   "source": [
    "!uname -a"
   ]
  },
  {
   "cell_type": "code",
   "execution_count": 42,
   "id": "029afa27-a5ec-428d-913c-016b564f1dc3",
   "metadata": {},
   "outputs": [
    {
     "name": "stdout",
     "output_type": "stream",
     "text": [
      "Python 3.10.13\n"
     ]
    }
   ],
   "source": [
    "!python --version"
   ]
  }
 ],
 "metadata": {
  "availableInstances": [
   {
    "_defaultOrder": 0,
    "_isFastLaunch": true,
    "category": "General purpose",
    "gpuNum": 0,
    "hideHardwareSpecs": false,
    "memoryGiB": 4,
    "name": "ml.t3.medium",
    "vcpuNum": 2
   },
   {
    "_defaultOrder": 1,
    "_isFastLaunch": false,
    "category": "General purpose",
    "gpuNum": 0,
    "hideHardwareSpecs": false,
    "memoryGiB": 8,
    "name": "ml.t3.large",
    "vcpuNum": 2
   },
   {
    "_defaultOrder": 2,
    "_isFastLaunch": false,
    "category": "General purpose",
    "gpuNum": 0,
    "hideHardwareSpecs": false,
    "memoryGiB": 16,
    "name": "ml.t3.xlarge",
    "vcpuNum": 4
   },
   {
    "_defaultOrder": 3,
    "_isFastLaunch": false,
    "category": "General purpose",
    "gpuNum": 0,
    "hideHardwareSpecs": false,
    "memoryGiB": 32,
    "name": "ml.t3.2xlarge",
    "vcpuNum": 8
   },
   {
    "_defaultOrder": 4,
    "_isFastLaunch": true,
    "category": "General purpose",
    "gpuNum": 0,
    "hideHardwareSpecs": false,
    "memoryGiB": 8,
    "name": "ml.m5.large",
    "vcpuNum": 2
   },
   {
    "_defaultOrder": 5,
    "_isFastLaunch": false,
    "category": "General purpose",
    "gpuNum": 0,
    "hideHardwareSpecs": false,
    "memoryGiB": 16,
    "name": "ml.m5.xlarge",
    "vcpuNum": 4
   },
   {
    "_defaultOrder": 6,
    "_isFastLaunch": false,
    "category": "General purpose",
    "gpuNum": 0,
    "hideHardwareSpecs": false,
    "memoryGiB": 32,
    "name": "ml.m5.2xlarge",
    "vcpuNum": 8
   },
   {
    "_defaultOrder": 7,
    "_isFastLaunch": false,
    "category": "General purpose",
    "gpuNum": 0,
    "hideHardwareSpecs": false,
    "memoryGiB": 64,
    "name": "ml.m5.4xlarge",
    "vcpuNum": 16
   },
   {
    "_defaultOrder": 8,
    "_isFastLaunch": false,
    "category": "General purpose",
    "gpuNum": 0,
    "hideHardwareSpecs": false,
    "memoryGiB": 128,
    "name": "ml.m5.8xlarge",
    "vcpuNum": 32
   },
   {
    "_defaultOrder": 9,
    "_isFastLaunch": false,
    "category": "General purpose",
    "gpuNum": 0,
    "hideHardwareSpecs": false,
    "memoryGiB": 192,
    "name": "ml.m5.12xlarge",
    "vcpuNum": 48
   },
   {
    "_defaultOrder": 10,
    "_isFastLaunch": false,
    "category": "General purpose",
    "gpuNum": 0,
    "hideHardwareSpecs": false,
    "memoryGiB": 256,
    "name": "ml.m5.16xlarge",
    "vcpuNum": 64
   },
   {
    "_defaultOrder": 11,
    "_isFastLaunch": false,
    "category": "General purpose",
    "gpuNum": 0,
    "hideHardwareSpecs": false,
    "memoryGiB": 384,
    "name": "ml.m5.24xlarge",
    "vcpuNum": 96
   },
   {
    "_defaultOrder": 12,
    "_isFastLaunch": false,
    "category": "General purpose",
    "gpuNum": 0,
    "hideHardwareSpecs": false,
    "memoryGiB": 8,
    "name": "ml.m5d.large",
    "vcpuNum": 2
   },
   {
    "_defaultOrder": 13,
    "_isFastLaunch": false,
    "category": "General purpose",
    "gpuNum": 0,
    "hideHardwareSpecs": false,
    "memoryGiB": 16,
    "name": "ml.m5d.xlarge",
    "vcpuNum": 4
   },
   {
    "_defaultOrder": 14,
    "_isFastLaunch": false,
    "category": "General purpose",
    "gpuNum": 0,
    "hideHardwareSpecs": false,
    "memoryGiB": 32,
    "name": "ml.m5d.2xlarge",
    "vcpuNum": 8
   },
   {
    "_defaultOrder": 15,
    "_isFastLaunch": false,
    "category": "General purpose",
    "gpuNum": 0,
    "hideHardwareSpecs": false,
    "memoryGiB": 64,
    "name": "ml.m5d.4xlarge",
    "vcpuNum": 16
   },
   {
    "_defaultOrder": 16,
    "_isFastLaunch": false,
    "category": "General purpose",
    "gpuNum": 0,
    "hideHardwareSpecs": false,
    "memoryGiB": 128,
    "name": "ml.m5d.8xlarge",
    "vcpuNum": 32
   },
   {
    "_defaultOrder": 17,
    "_isFastLaunch": false,
    "category": "General purpose",
    "gpuNum": 0,
    "hideHardwareSpecs": false,
    "memoryGiB": 192,
    "name": "ml.m5d.12xlarge",
    "vcpuNum": 48
   },
   {
    "_defaultOrder": 18,
    "_isFastLaunch": false,
    "category": "General purpose",
    "gpuNum": 0,
    "hideHardwareSpecs": false,
    "memoryGiB": 256,
    "name": "ml.m5d.16xlarge",
    "vcpuNum": 64
   },
   {
    "_defaultOrder": 19,
    "_isFastLaunch": false,
    "category": "General purpose",
    "gpuNum": 0,
    "hideHardwareSpecs": false,
    "memoryGiB": 384,
    "name": "ml.m5d.24xlarge",
    "vcpuNum": 96
   },
   {
    "_defaultOrder": 20,
    "_isFastLaunch": false,
    "category": "General purpose",
    "gpuNum": 0,
    "hideHardwareSpecs": true,
    "memoryGiB": 0,
    "name": "ml.geospatial.interactive",
    "supportedImageNames": [
     "sagemaker-geospatial-v1-0"
    ],
    "vcpuNum": 0
   },
   {
    "_defaultOrder": 21,
    "_isFastLaunch": true,
    "category": "Compute optimized",
    "gpuNum": 0,
    "hideHardwareSpecs": false,
    "memoryGiB": 4,
    "name": "ml.c5.large",
    "vcpuNum": 2
   },
   {
    "_defaultOrder": 22,
    "_isFastLaunch": false,
    "category": "Compute optimized",
    "gpuNum": 0,
    "hideHardwareSpecs": false,
    "memoryGiB": 8,
    "name": "ml.c5.xlarge",
    "vcpuNum": 4
   },
   {
    "_defaultOrder": 23,
    "_isFastLaunch": false,
    "category": "Compute optimized",
    "gpuNum": 0,
    "hideHardwareSpecs": false,
    "memoryGiB": 16,
    "name": "ml.c5.2xlarge",
    "vcpuNum": 8
   },
   {
    "_defaultOrder": 24,
    "_isFastLaunch": false,
    "category": "Compute optimized",
    "gpuNum": 0,
    "hideHardwareSpecs": false,
    "memoryGiB": 32,
    "name": "ml.c5.4xlarge",
    "vcpuNum": 16
   },
   {
    "_defaultOrder": 25,
    "_isFastLaunch": false,
    "category": "Compute optimized",
    "gpuNum": 0,
    "hideHardwareSpecs": false,
    "memoryGiB": 72,
    "name": "ml.c5.9xlarge",
    "vcpuNum": 36
   },
   {
    "_defaultOrder": 26,
    "_isFastLaunch": false,
    "category": "Compute optimized",
    "gpuNum": 0,
    "hideHardwareSpecs": false,
    "memoryGiB": 96,
    "name": "ml.c5.12xlarge",
    "vcpuNum": 48
   },
   {
    "_defaultOrder": 27,
    "_isFastLaunch": false,
    "category": "Compute optimized",
    "gpuNum": 0,
    "hideHardwareSpecs": false,
    "memoryGiB": 144,
    "name": "ml.c5.18xlarge",
    "vcpuNum": 72
   },
   {
    "_defaultOrder": 28,
    "_isFastLaunch": false,
    "category": "Compute optimized",
    "gpuNum": 0,
    "hideHardwareSpecs": false,
    "memoryGiB": 192,
    "name": "ml.c5.24xlarge",
    "vcpuNum": 96
   },
   {
    "_defaultOrder": 29,
    "_isFastLaunch": true,
    "category": "Accelerated computing",
    "gpuNum": 1,
    "hideHardwareSpecs": false,
    "memoryGiB": 16,
    "name": "ml.g4dn.xlarge",
    "vcpuNum": 4
   },
   {
    "_defaultOrder": 30,
    "_isFastLaunch": false,
    "category": "Accelerated computing",
    "gpuNum": 1,
    "hideHardwareSpecs": false,
    "memoryGiB": 32,
    "name": "ml.g4dn.2xlarge",
    "vcpuNum": 8
   },
   {
    "_defaultOrder": 31,
    "_isFastLaunch": false,
    "category": "Accelerated computing",
    "gpuNum": 1,
    "hideHardwareSpecs": false,
    "memoryGiB": 64,
    "name": "ml.g4dn.4xlarge",
    "vcpuNum": 16
   },
   {
    "_defaultOrder": 32,
    "_isFastLaunch": false,
    "category": "Accelerated computing",
    "gpuNum": 1,
    "hideHardwareSpecs": false,
    "memoryGiB": 128,
    "name": "ml.g4dn.8xlarge",
    "vcpuNum": 32
   },
   {
    "_defaultOrder": 33,
    "_isFastLaunch": false,
    "category": "Accelerated computing",
    "gpuNum": 4,
    "hideHardwareSpecs": false,
    "memoryGiB": 192,
    "name": "ml.g4dn.12xlarge",
    "vcpuNum": 48
   },
   {
    "_defaultOrder": 34,
    "_isFastLaunch": false,
    "category": "Accelerated computing",
    "gpuNum": 1,
    "hideHardwareSpecs": false,
    "memoryGiB": 256,
    "name": "ml.g4dn.16xlarge",
    "vcpuNum": 64
   },
   {
    "_defaultOrder": 35,
    "_isFastLaunch": false,
    "category": "Accelerated computing",
    "gpuNum": 1,
    "hideHardwareSpecs": false,
    "memoryGiB": 61,
    "name": "ml.p3.2xlarge",
    "vcpuNum": 8
   },
   {
    "_defaultOrder": 36,
    "_isFastLaunch": false,
    "category": "Accelerated computing",
    "gpuNum": 4,
    "hideHardwareSpecs": false,
    "memoryGiB": 244,
    "name": "ml.p3.8xlarge",
    "vcpuNum": 32
   },
   {
    "_defaultOrder": 37,
    "_isFastLaunch": false,
    "category": "Accelerated computing",
    "gpuNum": 8,
    "hideHardwareSpecs": false,
    "memoryGiB": 488,
    "name": "ml.p3.16xlarge",
    "vcpuNum": 64
   },
   {
    "_defaultOrder": 38,
    "_isFastLaunch": false,
    "category": "Accelerated computing",
    "gpuNum": 8,
    "hideHardwareSpecs": false,
    "memoryGiB": 768,
    "name": "ml.p3dn.24xlarge",
    "vcpuNum": 96
   },
   {
    "_defaultOrder": 39,
    "_isFastLaunch": false,
    "category": "Memory Optimized",
    "gpuNum": 0,
    "hideHardwareSpecs": false,
    "memoryGiB": 16,
    "name": "ml.r5.large",
    "vcpuNum": 2
   },
   {
    "_defaultOrder": 40,
    "_isFastLaunch": false,
    "category": "Memory Optimized",
    "gpuNum": 0,
    "hideHardwareSpecs": false,
    "memoryGiB": 32,
    "name": "ml.r5.xlarge",
    "vcpuNum": 4
   },
   {
    "_defaultOrder": 41,
    "_isFastLaunch": false,
    "category": "Memory Optimized",
    "gpuNum": 0,
    "hideHardwareSpecs": false,
    "memoryGiB": 64,
    "name": "ml.r5.2xlarge",
    "vcpuNum": 8
   },
   {
    "_defaultOrder": 42,
    "_isFastLaunch": false,
    "category": "Memory Optimized",
    "gpuNum": 0,
    "hideHardwareSpecs": false,
    "memoryGiB": 128,
    "name": "ml.r5.4xlarge",
    "vcpuNum": 16
   },
   {
    "_defaultOrder": 43,
    "_isFastLaunch": false,
    "category": "Memory Optimized",
    "gpuNum": 0,
    "hideHardwareSpecs": false,
    "memoryGiB": 256,
    "name": "ml.r5.8xlarge",
    "vcpuNum": 32
   },
   {
    "_defaultOrder": 44,
    "_isFastLaunch": false,
    "category": "Memory Optimized",
    "gpuNum": 0,
    "hideHardwareSpecs": false,
    "memoryGiB": 384,
    "name": "ml.r5.12xlarge",
    "vcpuNum": 48
   },
   {
    "_defaultOrder": 45,
    "_isFastLaunch": false,
    "category": "Memory Optimized",
    "gpuNum": 0,
    "hideHardwareSpecs": false,
    "memoryGiB": 512,
    "name": "ml.r5.16xlarge",
    "vcpuNum": 64
   },
   {
    "_defaultOrder": 46,
    "_isFastLaunch": false,
    "category": "Memory Optimized",
    "gpuNum": 0,
    "hideHardwareSpecs": false,
    "memoryGiB": 768,
    "name": "ml.r5.24xlarge",
    "vcpuNum": 96
   },
   {
    "_defaultOrder": 47,
    "_isFastLaunch": false,
    "category": "Accelerated computing",
    "gpuNum": 1,
    "hideHardwareSpecs": false,
    "memoryGiB": 16,
    "name": "ml.g5.xlarge",
    "vcpuNum": 4
   },
   {
    "_defaultOrder": 48,
    "_isFastLaunch": false,
    "category": "Accelerated computing",
    "gpuNum": 1,
    "hideHardwareSpecs": false,
    "memoryGiB": 32,
    "name": "ml.g5.2xlarge",
    "vcpuNum": 8
   },
   {
    "_defaultOrder": 49,
    "_isFastLaunch": false,
    "category": "Accelerated computing",
    "gpuNum": 1,
    "hideHardwareSpecs": false,
    "memoryGiB": 64,
    "name": "ml.g5.4xlarge",
    "vcpuNum": 16
   },
   {
    "_defaultOrder": 50,
    "_isFastLaunch": false,
    "category": "Accelerated computing",
    "gpuNum": 1,
    "hideHardwareSpecs": false,
    "memoryGiB": 128,
    "name": "ml.g5.8xlarge",
    "vcpuNum": 32
   },
   {
    "_defaultOrder": 51,
    "_isFastLaunch": false,
    "category": "Accelerated computing",
    "gpuNum": 1,
    "hideHardwareSpecs": false,
    "memoryGiB": 256,
    "name": "ml.g5.16xlarge",
    "vcpuNum": 64
   },
   {
    "_defaultOrder": 52,
    "_isFastLaunch": false,
    "category": "Accelerated computing",
    "gpuNum": 4,
    "hideHardwareSpecs": false,
    "memoryGiB": 192,
    "name": "ml.g5.12xlarge",
    "vcpuNum": 48
   },
   {
    "_defaultOrder": 53,
    "_isFastLaunch": false,
    "category": "Accelerated computing",
    "gpuNum": 4,
    "hideHardwareSpecs": false,
    "memoryGiB": 384,
    "name": "ml.g5.24xlarge",
    "vcpuNum": 96
   },
   {
    "_defaultOrder": 54,
    "_isFastLaunch": false,
    "category": "Accelerated computing",
    "gpuNum": 8,
    "hideHardwareSpecs": false,
    "memoryGiB": 768,
    "name": "ml.g5.48xlarge",
    "vcpuNum": 192
   },
   {
    "_defaultOrder": 55,
    "_isFastLaunch": false,
    "category": "Accelerated computing",
    "gpuNum": 8,
    "hideHardwareSpecs": false,
    "memoryGiB": 1152,
    "name": "ml.p4d.24xlarge",
    "vcpuNum": 96
   },
   {
    "_defaultOrder": 56,
    "_isFastLaunch": false,
    "category": "Accelerated computing",
    "gpuNum": 8,
    "hideHardwareSpecs": false,
    "memoryGiB": 1152,
    "name": "ml.p4de.24xlarge",
    "vcpuNum": 96
   }
  ],
  "instance_type": "ml.t3.medium",
  "kernelspec": {
   "display_name": "Python 3 (ipykernel)",
   "language": "python",
   "name": "python3"
  },
  "language_info": {
   "codemirror_mode": {
    "name": "ipython",
    "version": 3
   },
   "file_extension": ".py",
   "mimetype": "text/x-python",
   "name": "python",
   "nbconvert_exporter": "python",
   "pygments_lexer": "ipython3",
   "version": "3.10.13"
  }
 },
 "nbformat": 4,
 "nbformat_minor": 5
}
